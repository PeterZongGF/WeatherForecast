{
 "cells": [
  {
   "cell_type": "markdown",
   "metadata": {},
   "source": [
    "# Weather Forecast Using  PyOWM\n",
    "The goal of this notebook is to perform a weather forecast with the library pyown executed by Papermill.<br>\n",
    "PyOWM is a wrapper for OpenWeatherMap web APIs providing a easier interface to fetch weather data.<br><br>\n",
    "More information on the links below:<br>\n",
    "* https://pypi.org/project/pyowm/\n",
    "* https://pyowm.readthedocs.io/en/latest/usage-examples-v2/weather-api-usage-examples.html\n",
    "\n"
   ]
  },
  {
   "cell_type": "markdown",
   "metadata": {},
   "source": [
    "## 1. Accessing pyown API\n",
    "On the first steps of our analysis we are going to get weather information for the define city using pyown API. <br>\n",
    "The information is going to be organized on a dictionary, and later loaded as a pandas DataFrame for performing the Data wrangling."
   ]
  },
  {
   "cell_type": "code",
   "execution_count": null,
   "metadata": {},
   "outputs": [],
   "source": [
    "# import libraries\n",
    "import pyowm\n",
    "import pandas as pd\n",
    "import seaborn as sns\n",
    "import matplotlib.pyplot as plt\n",
    "import pdfkit "
   ]
  },
  {
   "cell_type": "markdown",
   "metadata": {},
   "source": [
    "### 1.1 Setting PyOWM API key and defining variable\n",
    "This first part of the workflow we define the API key to access OpenWeather service and also the cell to contain the parameter `city` that can be defined using Papermill."
   ]
  },
  {
   "cell_type": "code",
   "execution_count": null,
   "metadata": {},
   "outputs": [],
   "source": [
    "# Set API key\n",
    "owm = pyowm.OWM('4d2d2e8a27dd277dde9f28f490615c10') #Michaels API - please create a new"
   ]
  },
  {
   "cell_type": "code",
   "execution_count": null,
   "metadata": {
    "tags": [
     "parameters"
    ]
   },
   "outputs": [],
   "source": [
    "# Define the default parameters\n",
    "city = 'Shanghai,CN'"
   ]
  },
  {
   "cell_type": "markdown",
   "metadata": {},
   "source": [
    "### 1.2 Fetching weather information for the defined city\n",
    "On this part we are going to use PyOWM to fetch data about the city and organized it first on a dictionary, them on a Pandas DataFrame."
   ]
  },
  {
   "cell_type": "code",
   "execution_count": null,
   "metadata": {},
   "outputs": [],
   "source": [
    "# Instantiate forecast object and fetch weather information about city\n",
    "fc = owm.three_hours_forecast(city)\n",
    "forecast = fc.get_forecast()"
   ]
  },
  {
   "cell_type": "code",
   "execution_count": null,
   "metadata": {},
   "outputs": [],
   "source": [
    "# Create a dictionary to organize the forecast data for the city of interest\n",
    "dict_forecast = {\n",
    "    'datetime':[],\n",
    "    'clouds':[],\n",
    "    'humidity':[],\n",
    "    'temp':[],\n",
    "    'temp_max':[],\n",
    "    'temp_min':[],\n",
    "    'detailed_status':[],\n",
    "    'icon_url':[],\n",
    "    'rain_vol':[]\n",
    "}"
   ]
  },
  {
   "cell_type": "code",
   "execution_count": null,
   "metadata": {},
   "outputs": [],
   "source": [
    "#Itereate over forecast object acessing the weather features\n",
    "for weather in forecast:\n",
    "    dict_forecast['datetime'].append(str(weather.get_reference_time(timeformat='iso')))\n",
    "    dict_forecast['clouds'].append(weather.get_clouds())\n",
    "    dict_forecast['humidity'].append(weather.get_humidity())\n",
    "    dict_forecast['temp'].append(weather.get_temperature(unit='celsius').get('temp'))\n",
    "    dict_forecast['temp_max'].append(weather.get_temperature(unit='celsius').get('temp_max'))\n",
    "    dict_forecast['temp_min'].append(weather.get_temperature(unit='celsius').get('temp_min'))\n",
    "    \n",
    "    dict_forecast['detailed_status'].append(weather.get_detailed_status())\n",
    "    dict_forecast['icon_url'].append(weather.get_weather_icon_url())\n",
    "    if '3h' in weather.get_rain().keys():\n",
    "        dict_forecast['rain_vol'].append(weather.get_rain().get('3h'))\n",
    "    else:\n",
    "        dict_forecast['rain_vol'].append(0)"
   ]
  },
  {
   "cell_type": "code",
   "execution_count": null,
   "metadata": {},
   "outputs": [],
   "source": [
    "# Create Dataframe from dictionary\n",
    "df = pd.DataFrame.from_dict(dict_forecast)"
   ]
  },
  {
   "cell_type": "code",
   "execution_count": null,
   "metadata": {},
   "outputs": [],
   "source": [
    "# Set dtype to datetime for 'datetime' column \n",
    "df['datetime'] = pd.to_datetime(df['datetime'])"
   ]
  },
  {
   "cell_type": "code",
   "execution_count": null,
   "metadata": {},
   "outputs": [],
   "source": [
    "df"
   ]
  },
  {
   "cell_type": "markdown",
   "metadata": {},
   "source": [
    "### 1.3 Understanding the DataFrame generated from the returned data.\n",
    "The function `owm.three_hours_forecast(city)` returns us information in 3 hour steps, for the next 5 days, with a total of 40 data points.\n",
    "We decided to work with the following variables:\n",
    "* clouds\n",
    "* humidity\n",
    "* temp\n",
    "* temp_max\n",
    "* temp_min\n",
    "* detailed_status\n",
    "* rain_vol"
   ]
  },
  {
   "cell_type": "markdown",
   "metadata": {},
   "source": [
    "### 1.4 Aggregating data based on the days\n",
    "On this step we are going to aggregate the data by day to facilitate the understanding and the plotting."
   ]
  },
  {
   "cell_type": "code",
   "execution_count": null,
   "metadata": {},
   "outputs": [],
   "source": [
    "# Create a dataframe agregating the values based on each day\n",
    "# for mean\n",
    "df_mean = df.resample('D', on='datetime').mean()\n",
    "df_mean.index = df_mean.index.date\n",
    "#df_mean.drop('datetime', axis=1, inplace=True)\n",
    "df_mean"
   ]
  },
  {
   "cell_type": "code",
   "execution_count": null,
   "metadata": {},
   "outputs": [],
   "source": [
    "# for max\n",
    "df_max = df.resample('D', on='datetime').max()\n",
    "df_max.index = df_max.index.date\n",
    "df_max.drop('datetime', axis=1, inplace=True)\n",
    "\n",
    "df_max"
   ]
  },
  {
   "cell_type": "code",
   "execution_count": null,
   "metadata": {},
   "outputs": [],
   "source": [
    "# for min\n",
    "df_min = df.resample('D', on='datetime').min()\n",
    "df_min.index = df_min.index.date\n",
    "df_min.drop('datetime', axis=1, inplace=True)\n",
    "df_min"
   ]
  },
  {
   "cell_type": "code",
   "execution_count": null,
   "metadata": {},
   "outputs": [],
   "source": [
    "# Create a Dataframe with temperature values (min, max, average) by merging on index\n",
    "df_temp = df_min[['temp']].merge(df_max[['temp']], \n",
    "                                 left_index=True, \n",
    "                                 right_index=True, \n",
    "                                 suffixes=('_min', '_max')).merge(df_mean[['temp']],\n",
    "                                                                  left_index=True, \n",
    "                                                                  right_index=True)\n",
    "# Rename columns\n",
    "df_temp.columns = ['temp_min', 'temp_max', 'temp_mean']\n",
    "df_temp"
   ]
  },
  {
   "cell_type": "markdown",
   "metadata": {},
   "source": [
    "## 2 Creating the visualizations\n",
    "On this part, we are going to plot the organized data using seaborn."
   ]
  },
  {
   "cell_type": "markdown",
   "metadata": {},
   "source": [
    "### 2.1 Temperature plot\n",
    "Show the forecast for maximun, minimun and average temperature for the next 5 days on the same plots."
   ]
  },
  {
   "cell_type": "code",
   "execution_count": null,
   "metadata": {},
   "outputs": [],
   "source": [
    "fig = plt.figure()\n",
    "sns_plot = sns.lineplot(data=df_temp, style=\"event\",markers=True, dashes=False)\n",
    "sns_plot.set_title(f'Temperature forecast for the next 5 days', fontsize=20)\n",
    "sns_plot.set_xlabel('Date', fontsize=14)\n",
    "sns_plot.set_ylabel('Temperature Celsius', fontsize=14)\n",
    "sns_plot.set_xticklabels(df_temp.index, rotation=20)\n",
    "sns_plot.grid(True)\n",
    "\n",
    "sns_plot.legend(labels=['Min. Temperature', 'Max Temperature', 'Average Temperature'])\n",
    "fig.set_size_inches(12, 6)\n",
    "\n",
    "temperature_plot = f\"{city.split(',')[0].replace(' ','_')}_temperature.png\"\n",
    "sns_plot.figure.savefig(temperature_plot, \n",
    "                  dpi=300, facecolor='w', \n",
    "                  orientation='portrait',\n",
    "                  bbox_inches='tight')\n"
   ]
  },
  {
   "cell_type": "markdown",
   "metadata": {},
   "source": [
    "### 2.2 Humidity, rain and clouds plot\n",
    "On this plot we are going to aggregate the data about pluviometry and humidity."
   ]
  },
  {
   "cell_type": "code",
   "execution_count": null,
   "metadata": {},
   "outputs": [],
   "source": [
    "# Create a Dataframe with total expected volume for rain on each day\n",
    "df_rain_per_day = df.resample('D', on='datetime').sum()[['rain_vol']]\n",
    "df_rain_per_day.index = df_rain_per_day.index.date\n",
    "df_rain_per_day"
   ]
  },
  {
   "cell_type": "code",
   "execution_count": null,
   "metadata": {},
   "outputs": [],
   "source": [
    "df_mean"
   ]
  },
  {
   "cell_type": "code",
   "execution_count": null,
   "metadata": {},
   "outputs": [],
   "source": [
    "fig = plt.figure()\n",
    "# Lineplot for humidity and clouds\n",
    "ax1 = fig.add_subplot(211)\n",
    "ax1 = sns.lineplot(data=df_mean[['clouds', 'humidity']], markers=True, dashes=False)\n",
    "ax1.set_xticks([])\n",
    "ax1.set_title(f'Expected humidity and rain volume for the next 5 days', fontsize=20)\n",
    "ax1.set_ylabel('Percentage', fontsize=14)\n",
    "ax1.grid(True)\n",
    "\n",
    "# Barplot for total rain per day\n",
    "ax2 = fig.add_subplot(212)\n",
    "ax2 = sns.barplot(x=df_rain_per_day.index, y='rain_vol', \n",
    "                  data=df_rain_per_day,\n",
    "                  palette=\"Blues_d\")\n",
    "ax2.set_xticklabels(df_temp.index, rotation=30)\n",
    "ax2.set_ylabel('Total Rain Volume in mm', fontsize=14)\n",
    "ax2.set_xlabel('Date', fontsize=14)\n",
    "fig.set_size_inches(12, 6)\n",
    "\n",
    "rain_humidity_plot = f\"{city.split(',')[0].replace(' ','_')}_rain_humidity.png\"\n",
    "fig.savefig(rain_humidity_plot, \n",
    "              dpi=300, facecolor='w', \n",
    "              orientation='portrait',\n",
    "              bbox_inches='tight')"
   ]
  },
  {
   "cell_type": "markdown",
   "metadata": {},
   "source": [
    "### 3 Creating the weather report\n",
    "\n",
    "On this part of the workflow we are going to use a simple HTML template to create our final report, adding information about the city chosen and the plots generated above."
   ]
  },
  {
   "cell_type": "code",
   "execution_count": null,
   "metadata": {},
   "outputs": [],
   "source": [
    "# Missing variables for the report"
   ]
  },
  {
   "cell_type": "code",
   "execution_count": null,
   "metadata": {},
   "outputs": [],
   "source": [
    "# Defining start and end date for the analysis\n",
    "today = str(df_mean.index.min()).replace('-', '/')\n",
    "last_day = str(df_mean.index.max()).replace('-', '/')"
   ]
  },
  {
   "cell_type": "code",
   "execution_count": null,
   "metadata": {},
   "outputs": [],
   "source": [
    "# HTML template to add our data and plots\n",
    "report_template = f'''\n",
    "<!DOCTYPE html>\n",
    "    <html>\n",
    "      <head>\n",
    "        <meta charset='utf-8'>\n",
    "        <title>Weather Forecast with PyOWM</title>\n",
    "        <link rel='stylesheet' href='report.css'>\n",
    "          <style>\n",
    "          h1 {{\n",
    "          font-family: Arial;\n",
    "          font-size: 300%;\n",
    "          }}\n",
    "          h2 {{\n",
    "          font-family: Arial;\n",
    "          font-size: 200%;\n",
    "          }}\n",
    "          @page {{\n",
    "          size: 7in 9.25in;\n",
    "          margin: 27mm 16mm 27mm 16mm;\n",
    "          }}\n",
    "          </style>                       \n",
    "      </head>\n",
    "      <h1 align=\"center\">Weather forecast for {city}</h1>\n",
    "      <h2 align=\"center\">Initial date: {today}</h2>\n",
    "      <h2 align=\"center\">Final date: {last_day}</h2>\n",
    "        \n",
    "      <figure>\n",
    "        <img src=\"{temperature_plot}\" width=\"1200\" height=\"600\">\n",
    "      </figure>\n",
    "      <figure>\n",
    "        <img src=\"{rain_humidity_plot}\" width=\"1200\" height=\"600\">\n",
    "      </figure>      \n",
    "    </html>\n",
    "'''"
   ]
  },
  {
   "cell_type": "code",
   "execution_count": null,
   "metadata": {},
   "outputs": [],
   "source": [
    "# Save HTML string to file\n",
    "html_report = f\"{city.split(',')[0].replace(' ','_')}_report.html\"\n",
    "with open(html_report, \"w\") as r:\n",
    "    r.write(report_template)"
   ]
  },
  {
   "cell_type": "code",
   "execution_count": null,
   "metadata": {},
   "outputs": [],
   "source": [
    "# Use pdfkit to create the pdf report from the \n",
    "# pdfkit.from_file(html_report, f\"{city.split(',')[0].replace(' ', '_')}_weather_report_for.pdf\") "
   ]
  }
 ],
 "metadata": {
  "kernelspec": {
   "display_name": "Python 3",
   "language": "python",
   "name": "python3"
  },
  "language_info": {
   "codemirror_mode": {
    "name": "ipython",
    "version": 3
   },
   "file_extension": ".py",
   "mimetype": "text/x-python",
   "name": "python",
   "nbconvert_exporter": "python",
   "pygments_lexer": "ipython3",
   "version": "3.7.5"
  },
  "pycharm": {
   "stem_cell": {
    "cell_type": "raw",
    "source": [],
    "metadata": {
     "collapsed": false
    }
   }
  }
 },
 "nbformat": 4,
 "nbformat_minor": 4
}
